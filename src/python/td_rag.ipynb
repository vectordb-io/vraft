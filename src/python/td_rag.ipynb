{
 "cells": [
  {
   "cell_type": "code",
   "execution_count": 1,
   "id": "031300ae-0fbb-4258-a048-59003c9d29d7",
   "metadata": {},
   "outputs": [
    {
     "name": "stderr",
     "output_type": "stream",
     "text": [
      "/home/mhlee/anaconda3/lib/python3.12/site-packages/transformers/tokenization_utils_base.py:1601: FutureWarning: `clean_up_tokenization_spaces` was not set. It will be set to `True` by default. This behavior will be depracted in transformers v4.45, and will be then set to `False` by default. For more details check this issue: https://github.com/huggingface/transformers/issues/31884\n",
      "  warnings.warn(\n"
     ]
    }
   ],
   "source": [
    "from langchain.embeddings import HuggingFaceEmbeddings\n",
    "from langchain.text_splitter import RecursiveCharacterTextSplitter\n",
    "from transformers import AutoTokenizer, AutoModel\n",
    "import torch\n",
    "import os\n",
    "\n",
    "# 加载文本文件\n",
    "input_file_path = \"a.txt\"\n",
    "with open(input_file_path, \"r\", encoding=\"utf-8\") as file:\n",
    "    text = file.read()\n",
    "\n",
    "# 拆分文本\n",
    "splitter = RecursiveCharacterTextSplitter(\n",
    "    chunk_size=200,  # 每个块的字符数\n",
    "    chunk_overlap=50,  # 每个块的重叠字符数（用于上下文连接）\n",
    "    length_function=len,\n",
    "    separators=[\"\\n\\n\", \"\\n\", \" \", \"\"]\n",
    ")\n",
    "chunks = splitter.split_text(text)\n",
    "\n",
    "# 加载本地模型\n",
    "model_name = \"/home/mhlee/Work/dev/vraft/src/python/all-MiniLM-L6-v2\"\n",
    "tokenizer = AutoTokenizer.from_pretrained(model_name)\n",
    "model = AutoModel.from_pretrained(model_name)\n",
    "\n",
    "def embed_text(text):\n",
    "    inputs = tokenizer(text, return_tensors=\"pt\", truncation=True, padding=True)\n",
    "    with torch.no_grad():\n",
    "        outputs = model(**inputs)\n",
    "    return outputs.last_hidden_state.mean(dim=1).squeeze().numpy()\n"
   ]
  },
  {
   "cell_type": "code",
   "execution_count": 2,
   "id": "08628b61",
   "metadata": {},
   "outputs": [
    {
     "name": "stdout",
     "output_type": "stream",
     "text": [
      "数据已保存到 /tmp/text384.txt\n"
     ]
    }
   ],
   "source": [
    "# 打开文件进行写入\n",
    "output_file_path = \"/tmp/text384.txt\"\n",
    "os.makedirs(os.path.dirname(output_file_path), exist_ok=True)\n",
    "\n",
    "with open(output_file_path, \"w\", encoding=\"utf-8\") as f:\n",
    "    for i, chunk in enumerate(chunks):\n",
    "        vector = embed_text(chunk)\n",
    "        vector_str = ','.join(f\"{x:.6f}\" for x in vector)  # 格式化向量数据以提高可读性\n",
    "        f.write(f\"{i}; {vector_str}; {chunk}\\n\")\n",
    "\"\"\"\n",
    "        f.write(f\"行号: {i}\\n\")\n",
    "        f.write(f\"向量数据: {vector_str}\\n\")\n",
    "        f.write(f\"分割的文本块: {chunk}\\n\")\n",
    "        f.write(\"-\" * 50 + \"\\n\")\n",
    "\"\"\"\n",
    "print(f\"数据已保存到 {output_file_path}\")"
   ]
  },
  {
   "cell_type": "code",
   "execution_count": null,
   "id": "fe26f9ae",
   "metadata": {},
   "outputs": [],
   "source": [
    "# create table --name=text_table --partition_num=1 --replica_num=1 --dim=384\n",
    "# load --table=text_table --file=/tmp/text384.txt\n",
    "# build index --table=text_table --annoy_tree_num=10\n",
    "# getknn --table=text_table --key=2 --limit=20\n",
    "# quit"
   ]
  },
  {
   "cell_type": "code",
   "execution_count": 3,
   "id": "323822d2",
   "metadata": {},
   "outputs": [
    {
     "name": "stdout",
     "output_type": "stream",
     "text": [
      "[-3.36260311e-02  4.31706905e-02 -2.88739890e-01 -3.01715910e-01\n",
      "  5.28401919e-02 -3.01823139e-01  2.87331551e-01  2.45747492e-01\n",
      " -3.41862962e-02 -5.78543022e-02  3.64801288e-01 -3.52113605e-01\n",
      " -3.16007167e-01 -4.18510884e-01 -1.27047256e-01 -9.86277238e-02\n",
      "  1.57578245e-01  2.18069889e-02  1.63505003e-02 -1.63388625e-01\n",
      "  1.84790075e-01  4.79817390e-06 -1.33694738e-01  9.87115055e-02\n",
      "  1.84715688e-01  2.96508044e-01  1.69409126e-01  2.86948025e-01\n",
      "  2.95707822e-01 -1.80631448e-02 -8.20261538e-02 -7.08827451e-02\n",
      " -9.59695503e-02  2.61973768e-01  1.19065575e-01  2.72333361e-02\n",
      " -3.81127775e-01 -5.02971053e-01 -2.88562417e-01  1.14855580e-01\n",
      " -2.85811096e-01 -3.85802656e-01  9.84286144e-03 -2.05881432e-01\n",
      "  1.32640421e-01  3.64709526e-01 -1.67322204e-01 -1.53929461e-02\n",
      " -2.31798857e-01 -2.40716875e-01 -1.45791560e-01 -3.02598119e-01\n",
      "  1.43955857e-01  5.11340611e-03 -1.00724600e-01  1.47084728e-01\n",
      "  2.22529575e-01  7.65588358e-02 -5.37613966e-02  6.39491677e-02\n",
      "  2.46150494e-01 -3.07752360e-02  1.25876904e-01  3.62864919e-02\n",
      "  2.12318584e-01  3.50903086e-02  1.76654577e-01 -4.38562453e-01\n",
      "  7.95156658e-02 -5.92675991e-02  1.66874170e-01 -1.45226344e-01\n",
      "  5.19024245e-02 -2.47370660e-01 -4.21784163e-01 -3.98691326e-01\n",
      "  4.93253730e-02 -8.71773064e-02  6.30022645e-01 -2.28575841e-01\n",
      " -1.70378372e-01  2.24659517e-01 -1.44839570e-01  1.42941535e-01\n",
      "  1.60361424e-01  3.28660250e-01  4.09114212e-02  7.91809037e-02\n",
      "  4.27125022e-02 -1.72139093e-01 -1.04520373e-01 -6.50020540e-02\n",
      " -1.26087666e-01  6.49586767e-02 -3.54177356e-02 -1.27978519e-01\n",
      "  2.73473859e-01 -1.44555971e-01 -5.78576401e-02 -9.38729420e-02\n",
      " -3.28763753e-01  7.36500546e-02 -2.27750942e-01  3.02310973e-01\n",
      " -5.84142268e-01 -1.06565826e-01  1.34553328e-01 -9.10196360e-03\n",
      "  4.63502668e-02 -1.38964728e-01 -2.08716452e-01  2.05072984e-01\n",
      " -2.53138635e-02 -2.12359846e-01  3.42908353e-02  3.60104293e-02\n",
      " -2.03001738e-01  8.36971740e-04  1.37662724e-01 -2.76572667e-02\n",
      "  1.74736958e-02 -1.30328655e-01 -3.85600567e-01 -3.45167816e-02\n",
      " -2.69303888e-01 -3.51643354e-01  2.24271849e-01 -9.93629671e-34\n",
      " -9.11560953e-02  3.45969021e-01  1.00361682e-01 -3.42749000e-01\n",
      " -9.09072161e-02  1.94138467e-01 -1.47369519e-01 -1.31605253e-01\n",
      " -1.52529866e-01  1.94691494e-01 -3.75935525e-01 -7.57331848e-02\n",
      " -2.41719782e-01  2.62733430e-01  1.74862206e-01 -2.01621473e-01\n",
      "  1.27807915e-01  2.52260745e-01  4.62052673e-01 -1.66693792e-01\n",
      "  4.06705946e-01 -2.10269511e-01 -1.12225801e-01  1.87950805e-01\n",
      " -7.09394664e-02  1.86108917e-01 -1.63571760e-02 -2.15986669e-01\n",
      " -1.00886889e-01  2.77244836e-01  3.72715369e-02 -1.04788408e-01\n",
      " -2.23981172e-01 -1.80076987e-01 -3.55055660e-01 -1.93598449e-01\n",
      " -5.01642302e-02  1.43167049e-01 -2.15135947e-01  2.59451091e-01\n",
      "  3.23642083e-02  1.84290960e-01 -3.11294347e-01 -2.23027408e-01\n",
      "  2.12540887e-02 -1.81092799e-01 -1.69360727e-01 -1.29929468e-01\n",
      "  3.54511589e-01 -1.38455212e-01 -5.11057019e-01 -1.81320161e-01\n",
      "  2.76921928e-01 -2.71529675e-01  5.79933047e-01  1.13526158e-01\n",
      "  1.76110610e-01  5.07200181e-01  1.30618304e-01  2.58653224e-01\n",
      "  3.32063586e-02 -6.31790534e-02 -3.13837230e-02 -5.13005704e-02\n",
      " -1.03363633e-01  5.95673442e-01  1.16877027e-01 -3.01812530e-01\n",
      "  5.63024879e-02 -1.61846280e-01 -4.61845815e-01  1.43821284e-01\n",
      "  5.46999931e-01 -1.37170583e-01 -6.87610954e-02  1.80020854e-01\n",
      " -2.10130274e-01 -2.43302822e-01 -4.67109799e-01 -5.33595145e-01\n",
      " -3.45222145e-01 -1.01659723e-01 -1.48227483e-01 -2.64081270e-01\n",
      "  1.79536358e-01 -2.76603294e-03 -2.03790277e-01  3.19458707e-03\n",
      "  2.09093735e-01  2.86047012e-01 -1.84274122e-01 -3.89479220e-01\n",
      " -8.98179635e-02 -1.44046307e-01 -1.75036773e-01 -6.71992137e-33\n",
      " -2.25447834e-01  1.04074158e-01 -4.13625419e-01  2.24513352e-01\n",
      " -1.44443229e-01 -1.06934749e-01  7.96637237e-02  1.75815653e-02\n",
      " -1.03158981e-01  9.07817706e-02  4.54054549e-02 -2.64968216e-01\n",
      " -2.13121891e-01 -6.41761050e-02  1.48599193e-01  5.40022135e-01\n",
      " -3.78034525e-02 -2.67705947e-01  2.05950335e-01  1.40102759e-01\n",
      "  9.64725390e-03  1.80033997e-01 -6.69422448e-02 -3.23437415e-02\n",
      "  4.10055667e-02 -4.36824784e-02 -1.30552687e-02  3.62040281e-01\n",
      "  4.10600036e-01 -1.77430734e-02 -7.11672828e-02 -2.45080501e-01\n",
      "  1.02253057e-01  6.09946966e-01  3.24787736e-01 -9.81282815e-02\n",
      "  5.23440957e-01  9.50285792e-02  3.73696059e-01  2.47198582e-01\n",
      "  2.11263031e-01 -3.57587002e-02  2.03232630e-03  1.00481935e-01\n",
      " -5.44085130e-02  2.12398842e-01 -4.24979478e-01 -2.49273539e-01\n",
      "  8.86257812e-02 -4.65707988e-01  2.84766763e-01 -3.55953097e-01\n",
      "  1.21932112e-01  2.05766380e-01  4.26644161e-02  2.53819108e-01\n",
      " -2.19648510e-01  3.91158044e-01  1.49788722e-01 -3.89555305e-01\n",
      "  4.99888957e-01 -2.40192115e-01  2.65918195e-01  1.50737688e-01\n",
      " -3.42376120e-02  2.41446169e-03 -2.19389528e-01  3.24931353e-01\n",
      "  3.08679909e-01 -2.58066803e-01 -3.71554419e-02  1.11542739e-01\n",
      "  4.49944288e-01 -6.22894615e-03 -4.08079416e-01 -2.59637773e-01\n",
      " -2.54945040e-01 -2.04547510e-01 -2.61857943e-03 -2.00030968e-01\n",
      " -1.50492564e-01  3.33541453e-01  5.66215850e-02 -4.17881966e-01\n",
      "  1.08413119e-02  3.24471332e-02  2.95470089e-01  3.95750135e-01\n",
      "  4.04471345e-02 -2.42789373e-01 -1.06396161e-01  1.87849477e-01\n",
      " -2.35949144e-01  2.32991725e-01 -2.50190467e-01 -1.02875504e-07\n",
      "  1.47693187e-01 -5.30161798e-01  1.48087233e-01  1.04421288e-01\n",
      "  2.66936511e-01 -3.31831157e-01  1.71943307e-01 -1.74578667e-01\n",
      "  2.72265613e-01 -2.41464779e-01  1.17078476e-01 -1.15192331e-01\n",
      " -9.10114571e-02  2.69420981e-01  4.25135016e-01  3.51705074e-01\n",
      " -3.50789160e-01  2.15619445e-01  3.83262970e-02 -2.71221638e-01\n",
      "  2.26108849e-01  2.12053284e-02  3.05637479e-01 -2.76110113e-01\n",
      " -8.66029561e-02  2.32760116e-01 -7.53863230e-02 -7.56790861e-02\n",
      "  1.33113749e-02 -2.23253086e-01 -2.03011557e-02  3.16478491e-01\n",
      "  2.07085222e-01  4.69311848e-02  9.19140875e-02  4.65817183e-01\n",
      " -5.68273338e-03  4.09012377e-01  7.83688128e-02 -5.03765866e-02\n",
      " -2.34124288e-01 -5.13721287e-01 -2.75688261e-01  1.15953153e-02\n",
      "  4.81042713e-01  2.47157067e-01 -2.30352774e-01 -2.19267711e-01\n",
      "  5.55926040e-02  4.47034277e-02 -1.22392073e-01  3.00614536e-02\n",
      " -8.07719901e-02  3.91967267e-01 -2.24372089e-01  2.04555824e-01\n",
      " -1.06302900e-02 -1.47384033e-01 -4.23012823e-02 -9.66485441e-02\n",
      "  1.47042885e-01  1.77994594e-01  3.82732153e-01 -1.52698696e-01]\n"
     ]
    }
   ],
   "source": [
    "qvector = embed_text(\"TDengine一个cpu可以处理几个vnode？\")\n",
    "print(qvector)\n",
    "\n"
   ]
  },
  {
   "cell_type": "code",
   "execution_count": 4,
   "id": "52654408",
   "metadata": {},
   "outputs": [
    {
     "name": "stdout",
     "output_type": "stream",
     "text": [
      "Response code: 0\n",
      "{distance:0.704123, key:18, attach_value:需求TDengine用户对CPU的需求主要受以下3个因素影响：数据分片：在TDengine中，每个CPU核心可以服务1至2个vnode。假设一个集群配置了100个vgroup，并且采用三副本策略，那么建议该集群的CPU核心数量为150~300个，以实现最佳性能。数据写入：TDengine的单核每秒至少能处理10,000}\n",
      "{distance:0.848784, key:40, attach_value:TDengine集群所需的内存容量、CPU核数、存储空间以及网络带宽。若数据副本数不是1，还需要将总需求量乘以副本数以得到实际所需资源。得益于TDengine出色的水平扩展能力，我们可以轻松计算出资源需求的总量。接下来，只须将这个总量除以单台物理机或虚拟机的资源量，便能大致确定需要购买多少台物理机或虚拟机来部署TDengine集群。网络端口要求下表列出了TDengine}\n",
      "{distance:0.894126, key:22, attach_value:CPU使用率不超过50%，以确保系统的稳定性和性能。一旦CPU使用率超过这一阈值，就需要考虑增加新的节点或增加CPU核心数量，以提供更多的计算资源。存储需求相较于传统通用数据库，TDengine在数据压缩方面表现出色，拥有极高的压缩率。在大多数应用场景中，TDengine的压缩率通常不低于5倍。在某些特定情况下，压缩率甚至可以达到10}\n",
      "{distance:0.929597, key:17, attach_value:RESTful/WebSocket连接方式来访问TDengine集群，而不采用taosc原生连接方式。在绝大多数情形下，RESTful/WebSocket连接方式均满足业务写入和查询要求，并且该连接方式不依赖于taosc，集群服务器升级与客户端连接方式完全解耦，使得服务器维护、升级更容易。CPU需求TDengine用户对CPU的需求主要受以下3个因素影响：数据分片：在}\n",
      "{distance:0.931361, key:26, attach_value:keep参数来优化存储成本仍显不足。为此，TDengine进一步创新，推出了多级存储策略。此外，为了加速数据处理流程，TDengine特别支持配置多块硬盘，以实现数据的并发写入与读取。这种并行处理机制能够最大化利用多核CPU的处理能力和硬盘I/O带宽，大幅提高数据传输速度，完美应对高并发、大数据量的应用场景挑战。技巧如何估算TDengine压缩率用户可以利用性能测试工具}\n",
      "背景知识: 需求TDengine用户对CPU的需求主要受以下3个因素影响：数据分片：在TDengine中，每个CPU核心可以服务1至2个vnode。假设一个集群配置了100个vgroup，并且采用三副本策略，那么建议该集群的CPU核心数量为150~300个，以实现最佳性能。数据写入：TDengine的单核每秒至少能处理10,000TDengine集群所需的内存容量、CPU核数、存储空间以及网络带宽。若数据副本数不是1，还需要将总需求量乘以副本数以得到实际所需资源。得益于TDengine出色的水平扩展能力，我们可以轻松计算出资源需求的总量。接下来，只须将这个总量除以单台物理机或虚拟机的资源量，便能大致确定需要购买多少台物理机或虚拟机来部署TDengine集群。网络端口要求下表列出了TDengineCPU使用率不超过50%，以确保系统的稳定性和性能。一旦CPU使用率超过这一阈值，就需要考虑增加新的节点或增加CPU核心数量，以提供更多的计算资源。存储需求相较于传统通用数据库，TDengine在数据压缩方面表现出色，拥有极高的压缩率。在大多数应用场景中，TDengine的压缩率通常不低于5倍。在某些特定情况下，压缩率甚至可以达到10RESTful/WebSocket连接方式来访问TDengine集群，而不采用taosc原生连接方式。在绝大多数情形下，RESTful/WebSocket连接方式均满足业务写入和查询要求，并且该连接方式不依赖于taosc，集群服务器升级与客户端连接方式完全解耦，使得服务器维护、升级更容易。CPU需求TDengine用户对CPU的需求主要受以下3个因素影响：数据分片：在keep参数来优化存储成本仍显不足。为此，TDengine进一步创新，推出了多级存储策略。此外，为了加速数据处理流程，TDengine特别支持配置多块硬盘，以实现数据的并发写入与读取。这种并行处理机制能够最大化利用多核CPU的处理能力和硬盘I/O带宽，大幅提高数据传输速度，完美应对高并发、大数据量的应用场景挑战。技巧如何估算TDengine压缩率用户可以利用性能测试工具\n"
     ]
    }
   ],
   "source": [
    "import sys\n",
    "import os\n",
    "\n",
    "# 将 vdb_module.so 的目录添加到 sys.path\n",
    "sys.path.append('/home/mhlee/Work/dev/vraft/output/libs')\n",
    "\n",
    "import vdb_module\n",
    "\n",
    "# 创建 VdbEngine 实例\n",
    "engine = vdb_module.VdbEngine(\"/tmp/local_console\")\n",
    "\n",
    "table = \"text_table\"\n",
    "#vec = [0.172457, 0.383009, 0.255386, 0.016210, 0.705780, 0.920516, 0.678624, 0.796226, 0.115947, 0.185988]  # 示例向量\n",
    "limit = 5\n",
    "\n",
    "res_code, results = engine.get_knn_by_vector(table, qvector, limit)\n",
    "\n",
    "bg_data = \"\"\n",
    "\n",
    "print(\"Response code:\", res_code)\n",
    "for result in results:\n",
    "    print(result.to_print_string())\n",
    "    bg_data += result.attach_value\n",
    "\n",
    "del engine\n",
    "\n",
    "print(f\"背景知识: {bg_data}\")"
   ]
  },
  {
   "cell_type": "code",
   "execution_count": 8,
   "id": "1061756c",
   "metadata": {},
   "outputs": [],
   "source": [
    "query = \"TDengine一个cpu可以处理几个vnode？\"\n",
    "rag_query=\"根据如下内容：“\" + bg_data + \"” \" + \"回答问题： “\" + query + \"”\""
   ]
  },
  {
   "cell_type": "code",
   "execution_count": null,
   "id": "772060e7",
   "metadata": {},
   "outputs": [],
   "source": [
    "# update api_key"
   ]
  },
  {
   "cell_type": "code",
   "execution_count": 9,
   "id": "4f2aa749",
   "metadata": {},
   "outputs": [],
   "source": [
    "import os\n",
    "from openai import OpenAI\n",
    "\n",
    "client = OpenAI(\n",
    "    api_key=\"xx\",\n",
    "    base_url=\"https://dashscope.aliyuncs.com/compatible-mode/v1\"\n",
    ")"
   ]
  },
  {
   "cell_type": "code",
   "execution_count": 12,
   "id": "1e861716",
   "metadata": {},
   "outputs": [
    {
     "name": "stdout",
     "output_type": "stream",
     "text": [
      "\n",
      "原始query：\n",
      "TDengine一个cpu可以处理几个vnode？\n",
      "\n",
      "大模型回答：\n",
      "TDengine的性能和可扩展性设计使得单个CPU可以处理较多的vnode（虚拟节点）。然而，具体能处理多少个vnode，并没有一个固定的数值，因为它依赖于多个因素，包括但不限于：\n",
      "\n",
      "1. **硬件规格**：CPU的性能（如核心数、主频）、内存大小、磁盘速度等都会影响到单个CPU可以有效管理的vnode数量。\n",
      "2. **负载情况**：数据写入和查询的频率及复杂度直接影响到系统负载，从而影响单CPU支持的vnode数量。\n",
      "3. **vnode配置**：每个vnode的数据量、存储配置以及处理的任务类型（例如大量写入还是复杂查询）也会影响其资源消耗。\n",
      "4. **系统优化与配置**：包括TDengine的配置参数（如缓存大小、线程池设置等）以及操作系统的优化程度。\n",
      "\n",
      "通常，为了达到最佳性能，建议通过实际测试来确定最合适的vnode数量。可以从小规模开始部署，逐步增加vnode数量，同时监控系统资源使用情况和性能指标，以找到最佳的配置点。\n",
      "\n",
      "TDengine的设计原则之一是简化运维和自动优化，因此它具备一定的自我调整能力，但合理的手动调优依然能进一步提升系统效率。在高并发或大规模数据场景下，建议进行细致的性能测试和调优，以确保系统能够高效稳定运行。\n"
     ]
    }
   ],
   "source": [
    "print(\"\\n原始query：\")\n",
    "print(query)\n",
    "\n",
    "completion = client.chat.completions.create(\n",
    "    model=\"qwen-max\", # 更多模型请参见模型列表文档。\n",
    "    messages = [{\"role\": \"user\", \"content\": query}]\n",
    ")\n",
    "print(\"\\n大模型回答：\")\n",
    "print(completion.choices[0].message.content)"
   ]
  },
  {
   "cell_type": "code",
   "execution_count": 13,
   "id": "51fdcf49",
   "metadata": {},
   "outputs": [
    {
     "name": "stdout",
     "output_type": "stream",
     "text": [
      "\n",
      "rag query：\n",
      "根据如下内容：“需求TDengine用户对CPU的需求主要受以下3个因素影响：数据分片：在TDengine中，每个CPU核心可以服务1至2个vnode。假设一个集群配置了100个vgroup，并且采用三副本策略，那么建议该集群的CPU核心数量为150~300个，以实现最佳性能。数据写入：TDengine的单核每秒至少能处理10,000TDengine集群所需的内存容量、CPU核数、存储空间以及网络带宽。若数据副本数不是1，还需要将总需求量乘以副本数以得到实际所需资源。得益于TDengine出色的水平扩展能力，我们可以轻松计算出资源需求的总量。接下来，只须将这个总量除以单台物理机或虚拟机的资源量，便能大致确定需要购买多少台物理机或虚拟机来部署TDengine集群。网络端口要求下表列出了TDengineCPU使用率不超过50%，以确保系统的稳定性和性能。一旦CPU使用率超过这一阈值，就需要考虑增加新的节点或增加CPU核心数量，以提供更多的计算资源。存储需求相较于传统通用数据库，TDengine在数据压缩方面表现出色，拥有极高的压缩率。在大多数应用场景中，TDengine的压缩率通常不低于5倍。在某些特定情况下，压缩率甚至可以达到10RESTful/WebSocket连接方式来访问TDengine集群，而不采用taosc原生连接方式。在绝大多数情形下，RESTful/WebSocket连接方式均满足业务写入和查询要求，并且该连接方式不依赖于taosc，集群服务器升级与客户端连接方式完全解耦，使得服务器维护、升级更容易。CPU需求TDengine用户对CPU的需求主要受以下3个因素影响：数据分片：在keep参数来优化存储成本仍显不足。为此，TDengine进一步创新，推出了多级存储策略。此外，为了加速数据处理流程，TDengine特别支持配置多块硬盘，以实现数据的并发写入与读取。这种并行处理机制能够最大化利用多核CPU的处理能力和硬盘I/O带宽，大幅提高数据传输速度，完美应对高并发、大数据量的应用场景挑战。技巧如何估算TDengine压缩率用户可以利用性能测试工具” 回答问题： “TDengine一个cpu可以处理几个vnode？”\n",
      "\n",
      "大模型回答：\n",
      "在TDengine中，一个CPU核心可以服务1至2个vnode。\n"
     ]
    }
   ],
   "source": [
    "\n",
    "print(\"\\nrag query：\")\n",
    "print(rag_query)\n",
    "\n",
    "completion = client.chat.completions.create(\n",
    "    model=\"qwen-max\", # 更多模型请参见模型列表文档。\n",
    "    messages = [{\"role\": \"user\", \"content\": rag_query}]\n",
    ")\n",
    "print(\"\\n大模型回答：\")\n",
    "print(completion.choices[0].message.content)"
   ]
  }
 ],
 "metadata": {
  "kernelspec": {
   "display_name": "Python 3 (ipykernel)",
   "language": "python",
   "name": "python3"
  },
  "language_info": {
   "codemirror_mode": {
    "name": "ipython",
    "version": 3
   },
   "file_extension": ".py",
   "mimetype": "text/x-python",
   "name": "python",
   "nbconvert_exporter": "python",
   "pygments_lexer": "ipython3",
   "version": "3.12.2"
  }
 },
 "nbformat": 4,
 "nbformat_minor": 5
}
