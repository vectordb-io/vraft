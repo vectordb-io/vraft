{
 "cells": [
  {
   "cell_type": "code",
   "execution_count": 1,
   "id": "fd3681b4-0eb8-41e8-89ce-ead515a3924a",
   "metadata": {},
   "outputs": [
    {
     "name": "stdout",
     "output_type": "stream",
     "text": [
      "hello xx\n"
     ]
    }
   ],
   "source": [
    "print(\"hello xx\")"
   ]
  },
  {
   "cell_type": "code",
   "execution_count": null,
   "id": "43a76c4b-8a18-4c59-97e2-6093afdb9528",
   "metadata": {},
   "outputs": [],
   "source": []
  }
 ],
 "metadata": {
  "kernelspec": {
   "display_name": "Python 3 (ipykernel)",
   "language": "python",
   "name": "python3"
  },
  "language_info": {
   "codemirror_mode": {
    "name": "ipython",
    "version": 3
   },
   "file_extension": ".py",
   "mimetype": "text/x-python",
   "name": "python",
   "nbconvert_exporter": "python",
   "pygments_lexer": "ipython3",
   "version": "3.12.5"
  }
 },
 "nbformat": 4,
 "nbformat_minor": 5
}
